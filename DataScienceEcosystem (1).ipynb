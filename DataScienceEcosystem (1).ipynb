{
 "cells": [
  {
   "cell_type": "markdown",
   "id": "d2e9a8d4-5472-4ab7-8ae9-8b204c1b379a",
   "metadata": {},
   "source": [
    "# Data Science Tools and Ecosystem"
   ]
  },
  {
   "cell_type": "markdown",
   "id": "de4ba14b-bd9f-47b0-ae46-9d27e872d25f",
   "metadata": {},
   "source": [
    "In this notebook, Data Science Tools and Ecosytem are summarized."
   ]
  },
  {
   "cell_type": "markdown",
   "id": "3be0eea4-5090-4f16-8405-8ecc5901d995",
   "metadata": {},
   "source": [
    "Some of the popular languages that Data Scientists use are:\n",
    "1. R\n",
    "2. Python\n",
    "3. Java"
   ]
  },
  {
   "cell_type": "markdown",
   "id": "f626e590-29af-46ac-a921-999cef8647e5",
   "metadata": {},
   "source": [
    "**Objectives:** \n",
    "1. C#\n",
    "2. JavaScript\n",
    "3. HTML"
   ]
  },
  {
   "cell_type": "markdown",
   "id": "11c51dd8-9360-4835-97c9-bde58b36062a",
   "metadata": {},
   "source": [
    "Some of the commonly used libraries used by Data Scientists include:\n",
    "1. Pandas\n",
    "2. Dplyr\n",
    "3. NumPy"
   ]
  },
  {
   "cell_type": "markdown",
   "id": "ec00dfd3-b481-480f-909c-b7d53789f34f",
   "metadata": {},
   "source": [
    "### Below are a few examples of evaluating arithmetic expressions in Python"
   ]
  },
  {
   "cell_type": "code",
   "execution_count": 4,
   "id": "49e6ab58-efd1-44e0-ab86-267e697b4dca",
   "metadata": {},
   "outputs": [
    {
     "data": {
      "text/plain": [
       "17"
      ]
     },
     "execution_count": 4,
     "metadata": {},
     "output_type": "execute_result"
    }
   ],
   "source": [
    "(3*4)+5 #This a simple arithmetic expression to multiply then add integers"
   ]
  },
  {
   "cell_type": "code",
   "execution_count": 5,
   "id": "fcacb688-6440-4fc7-9f5e-8d770f6cc64d",
   "metadata": {},
   "outputs": [
    {
     "data": {
      "text/plain": [
       "3.3333333333333335"
      ]
     },
     "execution_count": 5,
     "metadata": {},
     "output_type": "execute_result"
    }
   ],
   "source": [
    "200/60 # This will convert 200 minutes to hours by diving by 60 "
   ]
  },
  {
   "cell_type": "markdown",
   "id": "ee38c915-30f6-4552-89d8-027e3f97ea41",
   "metadata": {},
   "source": [
    "## Author\n",
    "Andrew "
   ]
  }
 ],
 "metadata": {
  "kernelspec": {
   "display_name": "Python 3 (ipykernel)",
   "language": "python",
   "name": "python3"
  },
  "language_info": {
   "codemirror_mode": {
    "name": "ipython",
    "version": 3
   },
   "file_extension": ".py",
   "mimetype": "text/x-python",
   "name": "python",
   "nbconvert_exporter": "python",
   "pygments_lexer": "ipython3",
   "version": "3.11.11"
  }
 },
 "nbformat": 4,
 "nbformat_minor": 5
}
