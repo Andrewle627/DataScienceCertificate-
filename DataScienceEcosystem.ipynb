{
 "cells": [
  {
   "cell_type": "markdown",
   "id": "e7650c01-fff6-42e9-a5af-6ee645a13cb3",
   "metadata": {},
   "source": [
    "# Data Science Tools and Ecosystem"
   ]
  },
  {
   "cell_type": "markdown",
   "id": "95153652-8e9b-4e25-a019-2b2d65805682",
   "metadata": {},
   "source": [
    "In this notebook, Data Science Tools and Ecosysyem are summarized"
   ]
  },
  {
   "cell_type": "markdown",
   "id": "1d6529e9-1963-4c8b-9f82-4730b259bd34",
   "metadata": {},
   "source": [
    "**Objectives:**\n",
    "- R\n",
    "- Python\n",
    "- JavaScript  "
   ]
  },
  {
   "cell_type": "markdown",
   "id": "696b5a22-b256-4058-a231-1e5ea6f0ea9a",
   "metadata": {},
   "source": [
    "Some of the popular languages that Data Scientists use are: \n",
    "1. R\n",
    "2. Python\n",
    "3. JavaScript"
   ]
  },
  {
   "cell_type": "markdown",
   "id": "8b6c1df3-b8fb-42a3-ae0c-e4c084161beb",
   "metadata": {},
   "source": [
    "Some of the commonly used libraries used by Data Scietists include: \n",
    "1. Pandas\n",
    "2. NumPy\n",
    "3. dplyr"
   ]
  },
  {
   "cell_type": "markdown",
   "id": "03592986-c6ba-4c2f-ba4b-fd9a36bafeeb",
   "metadata": {},
   "source": [
    "| Data Science Tools |\n",
    "| ------------------ |\n",
    "| R Studio |\n",
    "| Microsoft Visual Studio |\n",
    "| Jupyter IDE |"
   ]
  },
  {
   "cell_type": "markdown",
   "id": "56eaead7-4a5c-4f2e-a636-e03ff74c597f",
   "metadata": {},
   "source": [
    "### Below are a few examples of evaluating arithmetic expressions in Python"
   ]
  },
  {
   "cell_type": "code",
   "execution_count": 14,
   "id": "6bfc9f3c-76be-4c93-84d7-bc9b850ca921",
   "metadata": {},
   "outputs": [
    {
     "data": {
      "text/plain": [
       "17"
      ]
     },
     "execution_count": 14,
     "metadata": {},
     "output_type": "execute_result"
    }
   ],
   "source": [
    "#This a simple arithmetic expression to multiply then add integers \n",
    "(3*4)+5"
   ]
  },
  {
   "cell_type": "code",
   "execution_count": 15,
   "id": "62d35f50-9fb7-45bf-a4e8-c1e7779520e8",
   "metadata": {},
   "outputs": [
    {
     "data": {
      "text/plain": [
       "3.3333333333333335"
      ]
     },
     "execution_count": 15,
     "metadata": {},
     "output_type": "execute_result"
    }
   ],
   "source": [
    "# This will convert 200 minutes to hours by dividing by 60\n",
    "200/60"
   ]
  },
  {
   "cell_type": "markdown",
   "id": "683a468d-eeaf-4e07-a793-6f5572f11542",
   "metadata": {},
   "source": [
    "## Author \n",
    "Andrew "
   ]
  }
 ],
 "metadata": {
  "kernelspec": {
   "display_name": "Python 3 (ipykernel)",
   "language": "python",
   "name": "python3"
  },
  "language_info": {
   "codemirror_mode": {
    "name": "ipython",
    "version": 3
   },
   "file_extension": ".py",
   "mimetype": "text/x-python",
   "name": "python",
   "nbconvert_exporter": "python",
   "pygments_lexer": "ipython3",
   "version": "3.11.11"
  }
 },
 "nbformat": 4,
 "nbformat_minor": 5
}
